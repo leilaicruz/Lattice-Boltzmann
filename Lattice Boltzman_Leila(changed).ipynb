{
 "cells": [
  {
   "cell_type": "markdown",
   "metadata": {
    "collapsed": true
   },
   "source": [
    "This notebook has the implementation of the Lattice Boltzmann algorithm for a fluid moving in the x-direction with periodic boundary conditions on this axis but no-slip boundary conditions in y -axis. The fluid is simulated as a  square lattice which each nodes can move in 9 different directions (d2q9 model) and the points that cross the top and bottom boundaries (y direction) are bounced back to the fluid restoring the previous position but with minus the velocity it had. The velocity in the x-direction will be constant and no object was put inside the fluid.\n",
    "\n",
    "The program is divided as follows:\n",
    "\n",
    "1- Import of the main libraries\n",
    "\n",
    "2- Definition of the Globlal constants that characterize the fluid\n",
    "\n",
    "3- Equilibrium function definition\n",
    "\n",
    "4- Main time loop of the algorithm\n",
    "\n",
    "Leila Inigo de la Cruz"
   ]
  },
  {
   "cell_type": "code",
   "execution_count": 2,
   "metadata": {
    "collapsed": false
   },
   "outputs": [],
   "source": [
    "import numpy as np\n",
    "import math as math\n",
    "import matplotlib.pyplot as plt\n",
    "import statistics as stats\n",
    "from numpy.linalg import *\n",
    "from matplotlib import cm\n",
    "import pylab\n"
   ]
  },
  {
   "cell_type": "markdown",
   "metadata": {},
   "source": [
    "# Flow global constants  "
   ]
  },
  {
   "cell_type": "code",
   "execution_count": 40,
   "metadata": {
    "collapsed": true
   },
   "outputs": [],
   "source": [
    "\n",
    "maxIter = 250 # Total number of time iterations.\n",
    "q = 9                            # amount of discrete velocities   \n",
    "nx = 80; ny = 40;              # Lattice dimensions and population\n",
    "\n",
    "# Fluid constants\n",
    "Re      = 220.0                     # Reynolds number.        \n",
    "r=ny/9;                            # characteristic length        \n",
    "uLB     = 0.0005                    # Velocity in lattice units of the lattice.\n",
    "vis    = uLB*r/Re                  # viscosity\n",
    "# tau=  3.*vis+0.5               # Relaxation parameter\n",
    "tau=0.7"
   ]
  },
  {
   "cell_type": "markdown",
   "metadata": {},
   "source": [
    "# Velocities and weights d2q9"
   ]
  },
  {
   "cell_type": "code",
   "execution_count": 8,
   "metadata": {
    "collapsed": false
   },
   "outputs": [],
   "source": [
    "# Possible directions.\n",
    "ei= np.array([(x,y) for x in [0,-1,1] for y in [0,-1,1]])\n",
    "\n",
    "# Lattice weights.\n",
    "# w = 1/9 * np.ones(q) \n",
    "# for i in range(q):\n",
    "#     if i%2==0:\n",
    "#         w[i]=1/36\n",
    "# w[0] = 4/9 \n",
    "\n",
    "weights = 1/9*np.ones(q)\n",
    "weights[0] = 4/9\n",
    "weights[2::2] = 1/36        "
   ]
  },
  {
   "cell_type": "markdown",
   "metadata": {},
   "source": [
    "# Equilibrium Function Definition"
   ]
  },
  {
   "cell_type": "code",
   "execution_count": 106,
   "metadata": {
    "collapsed": false
   },
   "outputs": [],
   "source": [
    "# This function calculates the equilibrium distribution of the density of particles in the lattice \n",
    "#with certain speed , at certain position and time.\n",
    "#inputs:\n",
    "# u- speed of each particles, defined as an array of three dimensions:nx,ny,2,namely, the size of the lattice and \n",
    "#    the two components in x and y.\n",
    "# ei- the directions that can take the points in the lattice, defined as an array of 9 vectors of two dimensions.\n",
    "#rho- the density of the fluid, defined as a number result of sum of the density over certain direction of the velocity\n",
    "#outputs:\n",
    "# feq- The equilibrium distribution as an array of three dimensions: 9, nx,ny\n",
    "\n",
    "def equilibrium(u,ei,rho): \n",
    "\n",
    "    #     # term by term of the equilibrium density\n",
    "    term1=3*np.inner(ei, u.transpose(1,0,2)).transpose(0,2,1)\n",
    "    #     term1 = 3.0 * np.dot(ei,u.transpose(0,2,1))\n",
    "    term2=0.5*term1**2\n",
    "    #     term2 = 0.5 *term1**2\n",
    "    term3=3/2*(u[:,:,0]**2+u[:,:,1]**2)\n",
    "    \n",
    "#     # Fill in the density term by term in each possible direction given by the q variable.\n",
    "    \n",
    "    for i in range(q):\n",
    "        feq[i,:,:]= rho*w[i]*(1.+term1[i,:,:]+term2[i,:,:]-term3)\n",
    "\n",
    "    return feq\n",
    "\n"
   ]
  },
  {
   "cell_type": "markdown",
   "metadata": {},
   "source": [
    "# Main time loop"
   ]
  },
  {
   "cell_type": "code",
   "execution_count": 117,
   "metadata": {
    "collapsed": false
   },
   "outputs": [],
   "source": [
    "\n",
    "#initialization of the equilibrium density with an extra layer of zeros at the top and the bottom\n",
    "\n",
    "feq=np.ones(shape=(q,nx,ny+1))\n",
    "flowin=feq.copy()\n",
    "\n",
    "for time in range(maxIter):\n",
    "    \n",
    "\n",
    "    for i in range(q):\n",
    "        \n",
    "    #     Rolling of the grid \n",
    "        flowin[i, :, :] = np.roll(flowin[i, :, :], ei[i,0], axis = 0)\n",
    "        flowin[i, :, :] = np.roll(flowin[i, :, :], ei[i,1], axis = 1)\n",
    "\n",
    "#         flowin[i,:,:] = np.roll(np.roll(feq[i,:,:],ei[i,0],axis=0),ei[i,1],axis=1)\n",
    "#   Bounce back boundary conditions\n",
    "\n",
    "    flowin[1:q,:,0]=np.roll(flowin[1:q,:,0],4,axis=0)\n",
    "    flowin[1:q,:,ny]=np.roll(flowin[1:q,:,ny],4,axis=0)\n",
    "    \n",
    "    rho = np.sum(flowin,axis=0)     # Calculate macroscopic density \n",
    "    \n",
    "    u = [np.inner(flowin.transpose(2,1,0),ei[:, 0]).transpose(), np.inner(flowin.transpose(2,1,0),ei[:, 1]).transpose() ]/ rho\n",
    "#     u = np.dot(ei.transpose(), flowin.transpose((1,0,2)))/rho\n",
    "    u=u.transpose(1,2,0)\n",
    "    u[:,:,0] +=uLB # Adding constant velocity in x direction\n",
    "    \n",
    "    \n",
    "   \n",
    "    \n",
    "#         if np.any(flowin[i,:,ny]!=np.zeros([nx-1,1])):\n",
    "#             flowin[i,:,ny]=flowin[i-1,:,ny]\n",
    "# #             move the particles that moved to that layer back and reflect them on the y direction\n",
    "#             u[:,ny,1]=-u[:,ny,1]*ei[i,1]\n",
    "    \n",
    "\n",
    "#         if np.any(flowin[i,:,0]!=np.zeros([nx-1,1])):\n",
    "#             flowin[i,:,0]=flowin[i-1,:,0]\n",
    "# #             move the particles that moved to that layer back and reflect them on the y direction\n",
    "#             u[:,0,1]=-u[:,0,1]*ei[i,1]\n",
    "        \n",
    "        \n",
    "       \n",
    "    feq = equilibrium(u,ei,rho)  \n",
    "    \n",
    "    flowin = flowin - (1/tau)*(flowin-feq)\n",
    "#     flowin = ((tau-1)/tau)*flowin -(flowin - feq)/tau  # evolution equation \n",
    "\n",
    "        \n",
    "   \n",
    "  "
   ]
  },
  {
   "cell_type": "code",
   "execution_count": 118,
   "metadata": {
    "collapsed": false
   },
   "outputs": [],
   "source": [
    "x=np.linspace(0,ny,ny-1)\n",
    "\n",
    "plt.scatter(x,u[2,0:ny-1,0])\n",
    "plt.plot(x,u[2,0:ny-1,0])\n",
    "plt.xlabel('Lattice points in y')\n",
    "plt.ylabel('Velocity in x direction')\n",
    "pylab.show()"
   ]
  }
 ],
 "metadata": {
  "kernelspec": {
   "display_name": "Python 3",
   "language": "python",
   "name": "python3"
  }
 },
 "nbformat": 4,
 "nbformat_minor": 0
}
